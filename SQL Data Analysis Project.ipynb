{
 "metadata": {
  "language_info": {
   "codemirror_mode": {
    "name": "ipython",
    "version": 3
   },
   "file_extension": ".py",
   "mimetype": "text/x-python",
   "name": "python",
   "nbconvert_exporter": "python",
   "pygments_lexer": "ipython3",
   "version": "3.9.2"
  },
  "orig_nbformat": 2,
  "kernelspec": {
   "name": "python392jvsc74a57bd01afba1360193b7fdd0836cfa2e682bfa6d6030ea15d1e751f02009cbe6e49f3f",
   "display_name": "Python 3.9.2 64-bit"
  }
 },
 "nbformat": 4,
 "nbformat_minor": 2,
 "cells": [
  {
   "source": [
    "**Data** is the most talked about topic in recent years. The world is increasingly generating more and more data every second. Tons of different types of data get generated - video, text, image, transaction, etc. And this is increasing exponentially with every year as the world is becoming more and more digital. Tools like **SQL** help us in getting meaningful insights out of this huge mountain of information."
   ],
   "cell_type": "markdown",
   "metadata": {}
  },
  {
   "source": [
    "In this **SQL project**, I have used 2 datasets namely **trans_dataset** which is a Sacramento Realestate Transactions dataset and **sales_dataset** which is JAN 2009 real estate sales dataset.\n",
    "Using these two datasets I am going to demonstrate the following things.\n",
    "\n",
    "    1. SELECT ALL \n",
    "    2. AGGREGATIONS (COUNT, SUM, AVG, MIN, MAX) \n",
    "    3. DISTINCT \n",
    "    4. CONDITIONS USING WHERE \n",
    "    5. LIMIT \n",
    "    6. LIKE \n",
    "    7. JOIN \n",
    "    8. AND / OR \n",
    "    9. NESTED QUERIES "
   ],
   "cell_type": "markdown",
   "metadata": {}
  },
  {
   "cell_type": "code",
   "execution_count": 2,
   "metadata": {},
   "outputs": [
    {
     "output_type": "stream",
     "name": "stdout",
     "text": [
      "Requirement already satisfied: pandasql in c:\\users\\rasto\\appdata\\local\\programs\\python\\python39\\lib\\site-packages (0.7.3)\nRequirement already satisfied: numpy in c:\\users\\rasto\\appdata\\local\\programs\\python\\python39\\lib\\site-packages (from pandasql) (1.20.2)\nRequirement already satisfied: pandas in c:\\users\\rasto\\appdata\\local\\programs\\python\\python39\\lib\\site-packages (from pandasql) (1.2.3)\nRequirement already satisfied: sqlalchemy in c:\\users\\rasto\\appdata\\local\\programs\\python\\python39\\lib\\site-packages (from pandasql) (1.4.5)\nRequirement already satisfied: pytz>=2017.3 in c:\\users\\rasto\\appdata\\local\\programs\\python\\python39\\lib\\site-packages (from pandas->pandasql) (2021.1)\nRequirement already satisfied: python-dateutil>=2.7.3 in c:\\users\\rasto\\appdata\\local\\programs\\python\\python39\\lib\\site-packages (from pandas->pandasql) (2.8.1)\nRequirement already satisfied: six>=1.5 in c:\\users\\rasto\\appdata\\local\\programs\\python\\python39\\lib\\site-packages (from python-dateutil>=2.7.3->pandas->pandasql) (1.15.0)\nRequirement already satisfied: greenlet!=0.4.17 in c:\\users\\rasto\\appdata\\local\\programs\\python\\python39\\lib\\site-packages (from sqlalchemy->pandasql) (1.0.0)\nNote: you may need to restart the kernel to use updated packages.\n"
     ]
    }
   ],
   "source": [
    "pip install pandasql"
   ]
  },
  {
   "cell_type": "code",
   "execution_count": 3,
   "metadata": {},
   "outputs": [],
   "source": [
    "import pandas as pd \n",
    "import pandasql as ps "
   ]
  },
  {
   "cell_type": "code",
   "execution_count": 4,
   "metadata": {},
   "outputs": [
    {
     "output_type": "stream",
     "name": "stdout",
     "text": [
      "(985, 12)\n"
     ]
    }
   ],
   "source": [
    "trans_dataset = pd.read_csv(\"D:\\SQL\\Sacramentorealestatetransactions.csv\")\n",
    "print(trans_dataset.shape)"
   ]
  },
  {
   "cell_type": "code",
   "execution_count": 5,
   "metadata": {},
   "outputs": [
    {
     "output_type": "stream",
     "name": "stdout",
     "text": [
      "(998, 13)\n"
     ]
    }
   ],
   "source": [
    "sales_dataset = pd.read_csv(\"D:\\SQL\\SalesJan2009.csv\")\n",
    "print(sales_dataset.shape)"
   ]
  },
  {
   "source": [
    "**SELECT ALL**"
   ],
   "cell_type": "markdown",
   "metadata": {}
  },
  {
   "cell_type": "code",
   "execution_count": 6,
   "metadata": {},
   "outputs": [
    {
     "output_type": "execute_result",
     "data": {
      "text/plain": [
       "                  street             city    zip state  beds  baths  sq__ft  \\\n",
       "0           3526 HIGH ST       SACRAMENTO  95838    CA     2      1     836   \n",
       "1            51 OMAHA CT       SACRAMENTO  95823    CA     3      1    1167   \n",
       "2         2796 BRANCH ST       SACRAMENTO  95815    CA     2      1     796   \n",
       "3       2805 JANETTE WAY       SACRAMENTO  95815    CA     2      1     852   \n",
       "4        6001 MCMAHON DR       SACRAMENTO  95824    CA     2      1     797   \n",
       "..                   ...              ...    ...   ...   ...    ...     ...   \n",
       "980   9169 GARLINGTON CT       SACRAMENTO  95829    CA     4      3    2280   \n",
       "981      6932 RUSKUT WAY       SACRAMENTO  95823    CA     3      2    1477   \n",
       "982    7933 DAFFODIL WAY   CITRUS HEIGHTS  95610    CA     3      2    1216   \n",
       "983     8304 RED FOX WAY        ELK GROVE  95758    CA     4      2    1685   \n",
       "984  3882 YELLOWSTONE LN  EL DORADO HILLS  95762    CA     3      2    1362   \n",
       "\n",
       "            type                     sale_date   price   latitude   longitude  \n",
       "0    Residential  Wed May 21 00:00:00 EDT 2008   59222  38.631913 -121.434879  \n",
       "1    Residential  Wed May 21 00:00:00 EDT 2008   68212  38.478902 -121.431028  \n",
       "2    Residential  Wed May 21 00:00:00 EDT 2008   68880  38.618305 -121.443839  \n",
       "3    Residential  Wed May 21 00:00:00 EDT 2008   69307  38.616835 -121.439146  \n",
       "4    Residential  Wed May 21 00:00:00 EDT 2008   81900  38.519470 -121.435768  \n",
       "..           ...                           ...     ...        ...         ...  \n",
       "980  Residential  Thu May 15 00:00:00 EDT 2008  232425  38.457679 -121.359620  \n",
       "981  Residential  Thu May 15 00:00:00 EDT 2008  234000  38.499893 -121.458890  \n",
       "982  Residential  Thu May 15 00:00:00 EDT 2008  235000  38.708824 -121.256803  \n",
       "983  Residential  Thu May 15 00:00:00 EDT 2008  235301  38.417000 -121.397424  \n",
       "984  Residential  Thu May 15 00:00:00 EDT 2008  235738  38.655245 -121.075915  \n",
       "\n",
       "[985 rows x 12 columns]"
      ],
      "text/html": "<div>\n<style scoped>\n    .dataframe tbody tr th:only-of-type {\n        vertical-align: middle;\n    }\n\n    .dataframe tbody tr th {\n        vertical-align: top;\n    }\n\n    .dataframe thead th {\n        text-align: right;\n    }\n</style>\n<table border=\"1\" class=\"dataframe\">\n  <thead>\n    <tr style=\"text-align: right;\">\n      <th></th>\n      <th>street</th>\n      <th>city</th>\n      <th>zip</th>\n      <th>state</th>\n      <th>beds</th>\n      <th>baths</th>\n      <th>sq__ft</th>\n      <th>type</th>\n      <th>sale_date</th>\n      <th>price</th>\n      <th>latitude</th>\n      <th>longitude</th>\n    </tr>\n  </thead>\n  <tbody>\n    <tr>\n      <th>0</th>\n      <td>3526 HIGH ST</td>\n      <td>SACRAMENTO</td>\n      <td>95838</td>\n      <td>CA</td>\n      <td>2</td>\n      <td>1</td>\n      <td>836</td>\n      <td>Residential</td>\n      <td>Wed May 21 00:00:00 EDT 2008</td>\n      <td>59222</td>\n      <td>38.631913</td>\n      <td>-121.434879</td>\n    </tr>\n    <tr>\n      <th>1</th>\n      <td>51 OMAHA CT</td>\n      <td>SACRAMENTO</td>\n      <td>95823</td>\n      <td>CA</td>\n      <td>3</td>\n      <td>1</td>\n      <td>1167</td>\n      <td>Residential</td>\n      <td>Wed May 21 00:00:00 EDT 2008</td>\n      <td>68212</td>\n      <td>38.478902</td>\n      <td>-121.431028</td>\n    </tr>\n    <tr>\n      <th>2</th>\n      <td>2796 BRANCH ST</td>\n      <td>SACRAMENTO</td>\n      <td>95815</td>\n      <td>CA</td>\n      <td>2</td>\n      <td>1</td>\n      <td>796</td>\n      <td>Residential</td>\n      <td>Wed May 21 00:00:00 EDT 2008</td>\n      <td>68880</td>\n      <td>38.618305</td>\n      <td>-121.443839</td>\n    </tr>\n    <tr>\n      <th>3</th>\n      <td>2805 JANETTE WAY</td>\n      <td>SACRAMENTO</td>\n      <td>95815</td>\n      <td>CA</td>\n      <td>2</td>\n      <td>1</td>\n      <td>852</td>\n      <td>Residential</td>\n      <td>Wed May 21 00:00:00 EDT 2008</td>\n      <td>69307</td>\n      <td>38.616835</td>\n      <td>-121.439146</td>\n    </tr>\n    <tr>\n      <th>4</th>\n      <td>6001 MCMAHON DR</td>\n      <td>SACRAMENTO</td>\n      <td>95824</td>\n      <td>CA</td>\n      <td>2</td>\n      <td>1</td>\n      <td>797</td>\n      <td>Residential</td>\n      <td>Wed May 21 00:00:00 EDT 2008</td>\n      <td>81900</td>\n      <td>38.519470</td>\n      <td>-121.435768</td>\n    </tr>\n    <tr>\n      <th>...</th>\n      <td>...</td>\n      <td>...</td>\n      <td>...</td>\n      <td>...</td>\n      <td>...</td>\n      <td>...</td>\n      <td>...</td>\n      <td>...</td>\n      <td>...</td>\n      <td>...</td>\n      <td>...</td>\n      <td>...</td>\n    </tr>\n    <tr>\n      <th>980</th>\n      <td>9169 GARLINGTON CT</td>\n      <td>SACRAMENTO</td>\n      <td>95829</td>\n      <td>CA</td>\n      <td>4</td>\n      <td>3</td>\n      <td>2280</td>\n      <td>Residential</td>\n      <td>Thu May 15 00:00:00 EDT 2008</td>\n      <td>232425</td>\n      <td>38.457679</td>\n      <td>-121.359620</td>\n    </tr>\n    <tr>\n      <th>981</th>\n      <td>6932 RUSKUT WAY</td>\n      <td>SACRAMENTO</td>\n      <td>95823</td>\n      <td>CA</td>\n      <td>3</td>\n      <td>2</td>\n      <td>1477</td>\n      <td>Residential</td>\n      <td>Thu May 15 00:00:00 EDT 2008</td>\n      <td>234000</td>\n      <td>38.499893</td>\n      <td>-121.458890</td>\n    </tr>\n    <tr>\n      <th>982</th>\n      <td>7933 DAFFODIL WAY</td>\n      <td>CITRUS HEIGHTS</td>\n      <td>95610</td>\n      <td>CA</td>\n      <td>3</td>\n      <td>2</td>\n      <td>1216</td>\n      <td>Residential</td>\n      <td>Thu May 15 00:00:00 EDT 2008</td>\n      <td>235000</td>\n      <td>38.708824</td>\n      <td>-121.256803</td>\n    </tr>\n    <tr>\n      <th>983</th>\n      <td>8304 RED FOX WAY</td>\n      <td>ELK GROVE</td>\n      <td>95758</td>\n      <td>CA</td>\n      <td>4</td>\n      <td>2</td>\n      <td>1685</td>\n      <td>Residential</td>\n      <td>Thu May 15 00:00:00 EDT 2008</td>\n      <td>235301</td>\n      <td>38.417000</td>\n      <td>-121.397424</td>\n    </tr>\n    <tr>\n      <th>984</th>\n      <td>3882 YELLOWSTONE LN</td>\n      <td>EL DORADO HILLS</td>\n      <td>95762</td>\n      <td>CA</td>\n      <td>3</td>\n      <td>2</td>\n      <td>1362</td>\n      <td>Residential</td>\n      <td>Thu May 15 00:00:00 EDT 2008</td>\n      <td>235738</td>\n      <td>38.655245</td>\n      <td>-121.075915</td>\n    </tr>\n  </tbody>\n</table>\n<p>985 rows × 12 columns</p>\n</div>"
     },
     "metadata": {},
     "execution_count": 6
    }
   ],
   "source": [
    "ps.sqldf(\"\"\"\n",
    "\n",
    "SELECT * FROM trans_dataset as df\n",
    "\n",
    "\"\"\")"
   ]
  },
  {
   "cell_type": "code",
   "execution_count": 7,
   "metadata": {},
   "outputs": [
    {
     "output_type": "execute_result",
     "data": {
      "text/plain": [
       "     Transaction_date   Product  Price Payment_Type               Name  \\\n",
       "0    01/02/2009 04:53  Product1   1200         Visa             Betina   \n",
       "1    01/02/2009 13:08  Product1   1200   Mastercard  Federica e Andrea   \n",
       "2    01/04/2009 12:56  Product2   3600         Visa             Gerd W   \n",
       "3    01/04/2009 13:19  Product1   1200         Visa           LAURENCE   \n",
       "4    01/04/2009 20:11  Product1   1200   Mastercard              Fleur   \n",
       "..                ...       ...    ...          ...                ...   \n",
       "993  01/02/2009 17:24  Product2   3600       Diners              clara   \n",
       "994  01/04/2009 18:57  Product1   1200   Mastercard               KELI   \n",
       "995  01/23/2009 12:42  Product2   3600   Mastercard               Anke   \n",
       "996  01/07/2009 19:48  Product2   3600   Mastercard             TRICIA   \n",
       "997  01/25/2009 05:57  Product1   1200         Amex             pamela   \n",
       "\n",
       "               City              State        Country  Account_Created  \\\n",
       "0         Parkville                 MO  United States   1/2/2009 04:42   \n",
       "1           Astoria                 OR  United States   1/1/2009 16:21   \n",
       "2    Cahaba Heights                 AL  United States   11/15/08 15:47   \n",
       "3         Mickleton                 NJ  United States    9/24/08 15:19   \n",
       "4            Peoria                 IL  United States   1/3/2009 09:38   \n",
       "..              ...                ...            ...              ...   \n",
       "993           Perth  Western Australia      Australia   1/1/2009 21:20   \n",
       "994       Worongary         Queensland      Australia   12/23/08 15:17   \n",
       "995          Avalon    New South Wales      Australia     3/3/08 17:38   \n",
       "996          Sydney    New South Wales      Australia    9/21/08 20:49   \n",
       "997        Ayacucho       Buenos Aires      Argentina  1/24/2009 09:29   \n",
       "\n",
       "          Last_Login   Latitude   Longitude   US Zip  \n",
       "0     1/2/2009 07:49  39.195000  -94.681940  64152.0  \n",
       "1     1/3/2009 12:32  46.188060 -123.830000  97103.0  \n",
       "2     1/4/2009 12:45  33.520560  -86.802500  35243.0  \n",
       "3     1/4/2009 13:04  39.790000  -75.238060   8056.0  \n",
       "4     1/4/2009 19:45  40.693610  -89.588890  61601.0  \n",
       "..               ...        ...         ...      ...  \n",
       "993  2/27/2009 18:43 -31.933333  115.833333      NaN  \n",
       "994  2/28/2009 14:00 -28.050000  153.350000      NaN  \n",
       "995  2/28/2009 22:26 -33.633333  151.333333      NaN  \n",
       "996   3/1/2009 00:14 -33.883333  151.216667      NaN  \n",
       "997  2/10/2009 06:38 -37.150000  -58.483333      NaN  \n",
       "\n",
       "[998 rows x 13 columns]"
      ],
      "text/html": "<div>\n<style scoped>\n    .dataframe tbody tr th:only-of-type {\n        vertical-align: middle;\n    }\n\n    .dataframe tbody tr th {\n        vertical-align: top;\n    }\n\n    .dataframe thead th {\n        text-align: right;\n    }\n</style>\n<table border=\"1\" class=\"dataframe\">\n  <thead>\n    <tr style=\"text-align: right;\">\n      <th></th>\n      <th>Transaction_date</th>\n      <th>Product</th>\n      <th>Price</th>\n      <th>Payment_Type</th>\n      <th>Name</th>\n      <th>City</th>\n      <th>State</th>\n      <th>Country</th>\n      <th>Account_Created</th>\n      <th>Last_Login</th>\n      <th>Latitude</th>\n      <th>Longitude</th>\n      <th>US Zip</th>\n    </tr>\n  </thead>\n  <tbody>\n    <tr>\n      <th>0</th>\n      <td>01/02/2009 04:53</td>\n      <td>Product1</td>\n      <td>1200</td>\n      <td>Visa</td>\n      <td>Betina</td>\n      <td>Parkville</td>\n      <td>MO</td>\n      <td>United States</td>\n      <td>1/2/2009 04:42</td>\n      <td>1/2/2009 07:49</td>\n      <td>39.195000</td>\n      <td>-94.681940</td>\n      <td>64152.0</td>\n    </tr>\n    <tr>\n      <th>1</th>\n      <td>01/02/2009 13:08</td>\n      <td>Product1</td>\n      <td>1200</td>\n      <td>Mastercard</td>\n      <td>Federica e Andrea</td>\n      <td>Astoria</td>\n      <td>OR</td>\n      <td>United States</td>\n      <td>1/1/2009 16:21</td>\n      <td>1/3/2009 12:32</td>\n      <td>46.188060</td>\n      <td>-123.830000</td>\n      <td>97103.0</td>\n    </tr>\n    <tr>\n      <th>2</th>\n      <td>01/04/2009 12:56</td>\n      <td>Product2</td>\n      <td>3600</td>\n      <td>Visa</td>\n      <td>Gerd W</td>\n      <td>Cahaba Heights</td>\n      <td>AL</td>\n      <td>United States</td>\n      <td>11/15/08 15:47</td>\n      <td>1/4/2009 12:45</td>\n      <td>33.520560</td>\n      <td>-86.802500</td>\n      <td>35243.0</td>\n    </tr>\n    <tr>\n      <th>3</th>\n      <td>01/04/2009 13:19</td>\n      <td>Product1</td>\n      <td>1200</td>\n      <td>Visa</td>\n      <td>LAURENCE</td>\n      <td>Mickleton</td>\n      <td>NJ</td>\n      <td>United States</td>\n      <td>9/24/08 15:19</td>\n      <td>1/4/2009 13:04</td>\n      <td>39.790000</td>\n      <td>-75.238060</td>\n      <td>8056.0</td>\n    </tr>\n    <tr>\n      <th>4</th>\n      <td>01/04/2009 20:11</td>\n      <td>Product1</td>\n      <td>1200</td>\n      <td>Mastercard</td>\n      <td>Fleur</td>\n      <td>Peoria</td>\n      <td>IL</td>\n      <td>United States</td>\n      <td>1/3/2009 09:38</td>\n      <td>1/4/2009 19:45</td>\n      <td>40.693610</td>\n      <td>-89.588890</td>\n      <td>61601.0</td>\n    </tr>\n    <tr>\n      <th>...</th>\n      <td>...</td>\n      <td>...</td>\n      <td>...</td>\n      <td>...</td>\n      <td>...</td>\n      <td>...</td>\n      <td>...</td>\n      <td>...</td>\n      <td>...</td>\n      <td>...</td>\n      <td>...</td>\n      <td>...</td>\n      <td>...</td>\n    </tr>\n    <tr>\n      <th>993</th>\n      <td>01/02/2009 17:24</td>\n      <td>Product2</td>\n      <td>3600</td>\n      <td>Diners</td>\n      <td>clara</td>\n      <td>Perth</td>\n      <td>Western Australia</td>\n      <td>Australia</td>\n      <td>1/1/2009 21:20</td>\n      <td>2/27/2009 18:43</td>\n      <td>-31.933333</td>\n      <td>115.833333</td>\n      <td>NaN</td>\n    </tr>\n    <tr>\n      <th>994</th>\n      <td>01/04/2009 18:57</td>\n      <td>Product1</td>\n      <td>1200</td>\n      <td>Mastercard</td>\n      <td>KELI</td>\n      <td>Worongary</td>\n      <td>Queensland</td>\n      <td>Australia</td>\n      <td>12/23/08 15:17</td>\n      <td>2/28/2009 14:00</td>\n      <td>-28.050000</td>\n      <td>153.350000</td>\n      <td>NaN</td>\n    </tr>\n    <tr>\n      <th>995</th>\n      <td>01/23/2009 12:42</td>\n      <td>Product2</td>\n      <td>3600</td>\n      <td>Mastercard</td>\n      <td>Anke</td>\n      <td>Avalon</td>\n      <td>New South Wales</td>\n      <td>Australia</td>\n      <td>3/3/08 17:38</td>\n      <td>2/28/2009 22:26</td>\n      <td>-33.633333</td>\n      <td>151.333333</td>\n      <td>NaN</td>\n    </tr>\n    <tr>\n      <th>996</th>\n      <td>01/07/2009 19:48</td>\n      <td>Product2</td>\n      <td>3600</td>\n      <td>Mastercard</td>\n      <td>TRICIA</td>\n      <td>Sydney</td>\n      <td>New South Wales</td>\n      <td>Australia</td>\n      <td>9/21/08 20:49</td>\n      <td>3/1/2009 00:14</td>\n      <td>-33.883333</td>\n      <td>151.216667</td>\n      <td>NaN</td>\n    </tr>\n    <tr>\n      <th>997</th>\n      <td>01/25/2009 05:57</td>\n      <td>Product1</td>\n      <td>1200</td>\n      <td>Amex</td>\n      <td>pamela</td>\n      <td>Ayacucho</td>\n      <td>Buenos Aires</td>\n      <td>Argentina</td>\n      <td>1/24/2009 09:29</td>\n      <td>2/10/2009 06:38</td>\n      <td>-37.150000</td>\n      <td>-58.483333</td>\n      <td>NaN</td>\n    </tr>\n  </tbody>\n</table>\n<p>998 rows × 13 columns</p>\n</div>"
     },
     "metadata": {},
     "execution_count": 7
    }
   ],
   "source": [
    "ps.sqldf(\"\"\"\n",
    "\n",
    "    SELECT * FROM sales_dataset as ds\n",
    "\n",
    "\"\"\")"
   ]
  },
  {
   "source": [
    "**AGGREGATIONS (COUNT, SUM, AVG, MIN, MAX)**"
   ],
   "cell_type": "markdown",
   "metadata": {}
  },
  {
   "cell_type": "code",
   "execution_count": 8,
   "metadata": {},
   "outputs": [
    {
     "output_type": "execute_result",
     "data": {
      "text/plain": [
       "   count(zip)\n",
       "0         985"
      ],
      "text/html": "<div>\n<style scoped>\n    .dataframe tbody tr th:only-of-type {\n        vertical-align: middle;\n    }\n\n    .dataframe tbody tr th {\n        vertical-align: top;\n    }\n\n    .dataframe thead th {\n        text-align: right;\n    }\n</style>\n<table border=\"1\" class=\"dataframe\">\n  <thead>\n    <tr style=\"text-align: right;\">\n      <th></th>\n      <th>count(zip)</th>\n    </tr>\n  </thead>\n  <tbody>\n    <tr>\n      <th>0</th>\n      <td>985</td>\n    </tr>\n  </tbody>\n</table>\n</div>"
     },
     "metadata": {},
     "execution_count": 8
    }
   ],
   "source": [
    "ps.sqldf(\"\"\"\n",
    "\n",
    "    SELECT count(zip) FROM trans_dataset as df\n",
    "\n",
    "\"\"\")"
   ]
  },
  {
   "cell_type": "code",
   "execution_count": 9,
   "metadata": {},
   "outputs": [
    {
     "output_type": "execute_result",
     "data": {
      "text/plain": [
       "   SUM(price)\n",
       "0   230632100"
      ],
      "text/html": "<div>\n<style scoped>\n    .dataframe tbody tr th:only-of-type {\n        vertical-align: middle;\n    }\n\n    .dataframe tbody tr th {\n        vertical-align: top;\n    }\n\n    .dataframe thead th {\n        text-align: right;\n    }\n</style>\n<table border=\"1\" class=\"dataframe\">\n  <thead>\n    <tr style=\"text-align: right;\">\n      <th></th>\n      <th>SUM(price)</th>\n    </tr>\n  </thead>\n  <tbody>\n    <tr>\n      <th>0</th>\n      <td>230632100</td>\n    </tr>\n  </tbody>\n</table>\n</div>"
     },
     "metadata": {},
     "execution_count": 9
    }
   ],
   "source": [
    "ps.sqldf(\"\"\"\n",
    "\n",
    "    SELECT SUM(price) FROM trans_dataset as df\n",
    "\n",
    "\"\"\")"
   ]
  },
  {
   "cell_type": "code",
   "execution_count": 10,
   "metadata": {},
   "outputs": [
    {
     "output_type": "execute_result",
     "data": {
      "text/plain": [
       "      AVG(price)\n",
       "0  165428.300752"
      ],
      "text/html": "<div>\n<style scoped>\n    .dataframe tbody tr th:only-of-type {\n        vertical-align: middle;\n    }\n\n    .dataframe tbody tr th {\n        vertical-align: top;\n    }\n\n    .dataframe thead th {\n        text-align: right;\n    }\n</style>\n<table border=\"1\" class=\"dataframe\">\n  <thead>\n    <tr style=\"text-align: right;\">\n      <th></th>\n      <th>AVG(price)</th>\n    </tr>\n  </thead>\n  <tbody>\n    <tr>\n      <th>0</th>\n      <td>165428.300752</td>\n    </tr>\n  </tbody>\n</table>\n</div>"
     },
     "metadata": {},
     "execution_count": 10
    }
   ],
   "source": [
    "ps.sqldf(\"\"\"\n",
    "\n",
    "    SELECT AVG(price) FROM trans_dataset as df\n",
    "    WHERE beds = 2\n",
    "\n",
    "\"\"\")"
   ]
  },
  {
   "source": [
    "**DISTINCT**"
   ],
   "cell_type": "markdown",
   "metadata": {}
  },
  {
   "cell_type": "code",
   "execution_count": 11,
   "metadata": {},
   "outputs": [
    {
     "output_type": "execute_result",
     "data": {
      "text/plain": [
       "              city\n",
       "0       SACRAMENTO\n",
       "1   RANCHO CORDOVA\n",
       "2        RIO LINDA\n",
       "3   CITRUS HEIGHTS\n",
       "4  NORTH HIGHLANDS\n",
       "5         ANTELOPE\n",
       "6        ELK GROVE\n",
       "7          ELVERTA\n",
       "8             GALT\n",
       "9       CARMICHAEL"
      ],
      "text/html": "<div>\n<style scoped>\n    .dataframe tbody tr th:only-of-type {\n        vertical-align: middle;\n    }\n\n    .dataframe tbody tr th {\n        vertical-align: top;\n    }\n\n    .dataframe thead th {\n        text-align: right;\n    }\n</style>\n<table border=\"1\" class=\"dataframe\">\n  <thead>\n    <tr style=\"text-align: right;\">\n      <th></th>\n      <th>city</th>\n    </tr>\n  </thead>\n  <tbody>\n    <tr>\n      <th>0</th>\n      <td>SACRAMENTO</td>\n    </tr>\n    <tr>\n      <th>1</th>\n      <td>RANCHO CORDOVA</td>\n    </tr>\n    <tr>\n      <th>2</th>\n      <td>RIO LINDA</td>\n    </tr>\n    <tr>\n      <th>3</th>\n      <td>CITRUS HEIGHTS</td>\n    </tr>\n    <tr>\n      <th>4</th>\n      <td>NORTH HIGHLANDS</td>\n    </tr>\n    <tr>\n      <th>5</th>\n      <td>ANTELOPE</td>\n    </tr>\n    <tr>\n      <th>6</th>\n      <td>ELK GROVE</td>\n    </tr>\n    <tr>\n      <th>7</th>\n      <td>ELVERTA</td>\n    </tr>\n    <tr>\n      <th>8</th>\n      <td>GALT</td>\n    </tr>\n    <tr>\n      <th>9</th>\n      <td>CARMICHAEL</td>\n    </tr>\n  </tbody>\n</table>\n</div>"
     },
     "metadata": {},
     "execution_count": 11
    }
   ],
   "source": [
    "ps.sqldf(\"\"\"\n",
    "\n",
    "    SELECT DISTINCT city FROM trans_dataset as df\n",
    "    LIMIT 10\n",
    "\n",
    "\"\"\")"
   ]
  },
  {
   "source": [
    "**LIMIT AND WHERE**"
   ],
   "cell_type": "markdown",
   "metadata": {}
  },
  {
   "cell_type": "code",
   "execution_count": 12,
   "metadata": {},
   "outputs": [
    {
     "output_type": "execute_result",
     "data": {
      "text/plain": [
       "               street     city    zip state  beds  baths  sq__ft         type  \\\n",
       "0  20 CRYSTALWOOD CIR  LINCOLN  95648    CA     0      0       0  Residential   \n",
       "1  24 CRYSTALWOOD CIR  LINCOLN  95648    CA     0      0       0  Residential   \n",
       "2  28 CRYSTALWOOD CIR  LINCOLN  95648    CA     0      0       0  Residential   \n",
       "3  32 CRYSTALWOOD CIR  LINCOLN  95648    CA     0      0       0  Residential   \n",
       "4  36 CRYSTALWOOD CIR  LINCOLN  95648    CA     0      0       0  Residential   \n",
       "\n",
       "                      sale_date  price   latitude   longitude  \n",
       "0  Mon May 19 00:00:00 EDT 2008   4897  38.885327 -121.289412  \n",
       "1  Mon May 19 00:00:00 EDT 2008   4897  38.885132 -121.289405  \n",
       "2  Mon May 19 00:00:00 EDT 2008   4897  38.884936 -121.289397  \n",
       "3  Mon May 19 00:00:00 EDT 2008   4897  38.884741 -121.289390  \n",
       "4  Mon May 19 00:00:00 EDT 2008   4897  38.884599 -121.289406  "
      ],
      "text/html": "<div>\n<style scoped>\n    .dataframe tbody tr th:only-of-type {\n        vertical-align: middle;\n    }\n\n    .dataframe tbody tr th {\n        vertical-align: top;\n    }\n\n    .dataframe thead th {\n        text-align: right;\n    }\n</style>\n<table border=\"1\" class=\"dataframe\">\n  <thead>\n    <tr style=\"text-align: right;\">\n      <th></th>\n      <th>street</th>\n      <th>city</th>\n      <th>zip</th>\n      <th>state</th>\n      <th>beds</th>\n      <th>baths</th>\n      <th>sq__ft</th>\n      <th>type</th>\n      <th>sale_date</th>\n      <th>price</th>\n      <th>latitude</th>\n      <th>longitude</th>\n    </tr>\n  </thead>\n  <tbody>\n    <tr>\n      <th>0</th>\n      <td>20 CRYSTALWOOD CIR</td>\n      <td>LINCOLN</td>\n      <td>95648</td>\n      <td>CA</td>\n      <td>0</td>\n      <td>0</td>\n      <td>0</td>\n      <td>Residential</td>\n      <td>Mon May 19 00:00:00 EDT 2008</td>\n      <td>4897</td>\n      <td>38.885327</td>\n      <td>-121.289412</td>\n    </tr>\n    <tr>\n      <th>1</th>\n      <td>24 CRYSTALWOOD CIR</td>\n      <td>LINCOLN</td>\n      <td>95648</td>\n      <td>CA</td>\n      <td>0</td>\n      <td>0</td>\n      <td>0</td>\n      <td>Residential</td>\n      <td>Mon May 19 00:00:00 EDT 2008</td>\n      <td>4897</td>\n      <td>38.885132</td>\n      <td>-121.289405</td>\n    </tr>\n    <tr>\n      <th>2</th>\n      <td>28 CRYSTALWOOD CIR</td>\n      <td>LINCOLN</td>\n      <td>95648</td>\n      <td>CA</td>\n      <td>0</td>\n      <td>0</td>\n      <td>0</td>\n      <td>Residential</td>\n      <td>Mon May 19 00:00:00 EDT 2008</td>\n      <td>4897</td>\n      <td>38.884936</td>\n      <td>-121.289397</td>\n    </tr>\n    <tr>\n      <th>3</th>\n      <td>32 CRYSTALWOOD CIR</td>\n      <td>LINCOLN</td>\n      <td>95648</td>\n      <td>CA</td>\n      <td>0</td>\n      <td>0</td>\n      <td>0</td>\n      <td>Residential</td>\n      <td>Mon May 19 00:00:00 EDT 2008</td>\n      <td>4897</td>\n      <td>38.884741</td>\n      <td>-121.289390</td>\n    </tr>\n    <tr>\n      <th>4</th>\n      <td>36 CRYSTALWOOD CIR</td>\n      <td>LINCOLN</td>\n      <td>95648</td>\n      <td>CA</td>\n      <td>0</td>\n      <td>0</td>\n      <td>0</td>\n      <td>Residential</td>\n      <td>Mon May 19 00:00:00 EDT 2008</td>\n      <td>4897</td>\n      <td>38.884599</td>\n      <td>-121.289406</td>\n    </tr>\n  </tbody>\n</table>\n</div>"
     },
     "metadata": {},
     "execution_count": 12
    }
   ],
   "source": [
    "ps.sqldf(\"\"\"\n",
    "\n",
    "    SELECT * FROM trans_dataset as df\n",
    "    WHERE price < 10000\n",
    "    LIMIT 5\n",
    "\n",
    "\"\"\")"
   ]
  },
  {
   "cell_type": "code",
   "execution_count": 13,
   "metadata": {},
   "outputs": [
    {
     "output_type": "execute_result",
     "data": {
      "text/plain": [
       "                            street            city    zip state  beds  baths  \\\n",
       "0                     3526 HIGH ST      SACRAMENTO  95838    CA     2      1   \n",
       "1                   2796 BRANCH ST      SACRAMENTO  95815    CA     2      1   \n",
       "2                 2805 JANETTE WAY      SACRAMENTO  95815    CA     2      1   \n",
       "3                  6001 MCMAHON DR      SACRAMENTO  95824    CA     2      1   \n",
       "4  11150 TRINITY RIVER DR Unit 114  RANCHO CORDOVA  95670    CA     2      2   \n",
       "\n",
       "   sq__ft         type                     sale_date  price   latitude  \\\n",
       "0     836  Residential  Wed May 21 00:00:00 EDT 2008  59222  38.631913   \n",
       "1     796  Residential  Wed May 21 00:00:00 EDT 2008  68880  38.618305   \n",
       "2     852  Residential  Wed May 21 00:00:00 EDT 2008  69307  38.616835   \n",
       "3     797  Residential  Wed May 21 00:00:00 EDT 2008  81900  38.519470   \n",
       "4     941        Condo  Wed May 21 00:00:00 EDT 2008  94905  38.621188   \n",
       "\n",
       "    longitude  \n",
       "0 -121.434879  \n",
       "1 -121.443839  \n",
       "2 -121.439146  \n",
       "3 -121.435768  \n",
       "4 -121.270555  "
      ],
      "text/html": "<div>\n<style scoped>\n    .dataframe tbody tr th:only-of-type {\n        vertical-align: middle;\n    }\n\n    .dataframe tbody tr th {\n        vertical-align: top;\n    }\n\n    .dataframe thead th {\n        text-align: right;\n    }\n</style>\n<table border=\"1\" class=\"dataframe\">\n  <thead>\n    <tr style=\"text-align: right;\">\n      <th></th>\n      <th>street</th>\n      <th>city</th>\n      <th>zip</th>\n      <th>state</th>\n      <th>beds</th>\n      <th>baths</th>\n      <th>sq__ft</th>\n      <th>type</th>\n      <th>sale_date</th>\n      <th>price</th>\n      <th>latitude</th>\n      <th>longitude</th>\n    </tr>\n  </thead>\n  <tbody>\n    <tr>\n      <th>0</th>\n      <td>3526 HIGH ST</td>\n      <td>SACRAMENTO</td>\n      <td>95838</td>\n      <td>CA</td>\n      <td>2</td>\n      <td>1</td>\n      <td>836</td>\n      <td>Residential</td>\n      <td>Wed May 21 00:00:00 EDT 2008</td>\n      <td>59222</td>\n      <td>38.631913</td>\n      <td>-121.434879</td>\n    </tr>\n    <tr>\n      <th>1</th>\n      <td>2796 BRANCH ST</td>\n      <td>SACRAMENTO</td>\n      <td>95815</td>\n      <td>CA</td>\n      <td>2</td>\n      <td>1</td>\n      <td>796</td>\n      <td>Residential</td>\n      <td>Wed May 21 00:00:00 EDT 2008</td>\n      <td>68880</td>\n      <td>38.618305</td>\n      <td>-121.443839</td>\n    </tr>\n    <tr>\n      <th>2</th>\n      <td>2805 JANETTE WAY</td>\n      <td>SACRAMENTO</td>\n      <td>95815</td>\n      <td>CA</td>\n      <td>2</td>\n      <td>1</td>\n      <td>852</td>\n      <td>Residential</td>\n      <td>Wed May 21 00:00:00 EDT 2008</td>\n      <td>69307</td>\n      <td>38.616835</td>\n      <td>-121.439146</td>\n    </tr>\n    <tr>\n      <th>3</th>\n      <td>6001 MCMAHON DR</td>\n      <td>SACRAMENTO</td>\n      <td>95824</td>\n      <td>CA</td>\n      <td>2</td>\n      <td>1</td>\n      <td>797</td>\n      <td>Residential</td>\n      <td>Wed May 21 00:00:00 EDT 2008</td>\n      <td>81900</td>\n      <td>38.519470</td>\n      <td>-121.435768</td>\n    </tr>\n    <tr>\n      <th>4</th>\n      <td>11150 TRINITY RIVER DR Unit 114</td>\n      <td>RANCHO CORDOVA</td>\n      <td>95670</td>\n      <td>CA</td>\n      <td>2</td>\n      <td>2</td>\n      <td>941</td>\n      <td>Condo</td>\n      <td>Wed May 21 00:00:00 EDT 2008</td>\n      <td>94905</td>\n      <td>38.621188</td>\n      <td>-121.270555</td>\n    </tr>\n  </tbody>\n</table>\n</div>"
     },
     "metadata": {},
     "execution_count": 13
    }
   ],
   "source": [
    "ps.sqldf(\"\"\"\n",
    "\n",
    "    SELECT * FROM trans_dataset \n",
    "    WHERE beds = 2\n",
    "    LIMIT 5\n",
    "\n",
    "\"\"\")"
   ]
  },
  {
   "source": [
    "**WILD CARD (LIKE)**"
   ],
   "cell_type": "markdown",
   "metadata": {}
  },
  {
   "cell_type": "code",
   "execution_count": 14,
   "metadata": {},
   "outputs": [
    {
     "output_type": "execute_result",
     "data": {
      "text/plain": [
       "                   street        city    zip state  beds  baths  sq__ft  \\\n",
       "0            3526 HIGH ST  SACRAMENTO  95838    CA     2      1     836   \n",
       "1             51 OMAHA CT  SACRAMENTO  95823    CA     3      1    1167   \n",
       "2          2796 BRANCH ST  SACRAMENTO  95815    CA     2      1     796   \n",
       "3        2805 JANETTE WAY  SACRAMENTO  95815    CA     2      1     852   \n",
       "4         6001 MCMAHON DR  SACRAMENTO  95824    CA     2      1     797   \n",
       "..                    ...         ...    ...   ...   ...    ...     ...   \n",
       "437  3528 SAINT GEORGE DR  SACRAMENTO  95821    CA     3      1    1040   \n",
       "438       5 BISHOPGATE CT  SACRAMENTO  95823    CA     4      2    1329   \n",
       "439      5601 REXLEIGH DR  SACRAMENTO  95823    CA     4      2    1715   \n",
       "440    9169 GARLINGTON CT  SACRAMENTO  95829    CA     4      3    2280   \n",
       "441       6932 RUSKUT WAY  SACRAMENTO  95823    CA     3      2    1477   \n",
       "\n",
       "            type                     sale_date   price   latitude   longitude  \n",
       "0    Residential  Wed May 21 00:00:00 EDT 2008   59222  38.631913 -121.434879  \n",
       "1    Residential  Wed May 21 00:00:00 EDT 2008   68212  38.478902 -121.431028  \n",
       "2    Residential  Wed May 21 00:00:00 EDT 2008   68880  38.618305 -121.443839  \n",
       "3    Residential  Wed May 21 00:00:00 EDT 2008   69307  38.616835 -121.439146  \n",
       "4    Residential  Wed May 21 00:00:00 EDT 2008   81900  38.519470 -121.435768  \n",
       "..           ...                           ...     ...        ...         ...  \n",
       "437  Residential  Thu May 15 00:00:00 EDT 2008  224000  38.629468 -121.376445  \n",
       "438  Residential  Thu May 15 00:00:00 EDT 2008  229500  38.467936 -121.445477  \n",
       "439  Residential  Thu May 15 00:00:00 EDT 2008  230000  38.445342 -121.441504  \n",
       "440  Residential  Thu May 15 00:00:00 EDT 2008  232425  38.457679 -121.359620  \n",
       "441  Residential  Thu May 15 00:00:00 EDT 2008  234000  38.499893 -121.458890  \n",
       "\n",
       "[442 rows x 12 columns]"
      ],
      "text/html": "<div>\n<style scoped>\n    .dataframe tbody tr th:only-of-type {\n        vertical-align: middle;\n    }\n\n    .dataframe tbody tr th {\n        vertical-align: top;\n    }\n\n    .dataframe thead th {\n        text-align: right;\n    }\n</style>\n<table border=\"1\" class=\"dataframe\">\n  <thead>\n    <tr style=\"text-align: right;\">\n      <th></th>\n      <th>street</th>\n      <th>city</th>\n      <th>zip</th>\n      <th>state</th>\n      <th>beds</th>\n      <th>baths</th>\n      <th>sq__ft</th>\n      <th>type</th>\n      <th>sale_date</th>\n      <th>price</th>\n      <th>latitude</th>\n      <th>longitude</th>\n    </tr>\n  </thead>\n  <tbody>\n    <tr>\n      <th>0</th>\n      <td>3526 HIGH ST</td>\n      <td>SACRAMENTO</td>\n      <td>95838</td>\n      <td>CA</td>\n      <td>2</td>\n      <td>1</td>\n      <td>836</td>\n      <td>Residential</td>\n      <td>Wed May 21 00:00:00 EDT 2008</td>\n      <td>59222</td>\n      <td>38.631913</td>\n      <td>-121.434879</td>\n    </tr>\n    <tr>\n      <th>1</th>\n      <td>51 OMAHA CT</td>\n      <td>SACRAMENTO</td>\n      <td>95823</td>\n      <td>CA</td>\n      <td>3</td>\n      <td>1</td>\n      <td>1167</td>\n      <td>Residential</td>\n      <td>Wed May 21 00:00:00 EDT 2008</td>\n      <td>68212</td>\n      <td>38.478902</td>\n      <td>-121.431028</td>\n    </tr>\n    <tr>\n      <th>2</th>\n      <td>2796 BRANCH ST</td>\n      <td>SACRAMENTO</td>\n      <td>95815</td>\n      <td>CA</td>\n      <td>2</td>\n      <td>1</td>\n      <td>796</td>\n      <td>Residential</td>\n      <td>Wed May 21 00:00:00 EDT 2008</td>\n      <td>68880</td>\n      <td>38.618305</td>\n      <td>-121.443839</td>\n    </tr>\n    <tr>\n      <th>3</th>\n      <td>2805 JANETTE WAY</td>\n      <td>SACRAMENTO</td>\n      <td>95815</td>\n      <td>CA</td>\n      <td>2</td>\n      <td>1</td>\n      <td>852</td>\n      <td>Residential</td>\n      <td>Wed May 21 00:00:00 EDT 2008</td>\n      <td>69307</td>\n      <td>38.616835</td>\n      <td>-121.439146</td>\n    </tr>\n    <tr>\n      <th>4</th>\n      <td>6001 MCMAHON DR</td>\n      <td>SACRAMENTO</td>\n      <td>95824</td>\n      <td>CA</td>\n      <td>2</td>\n      <td>1</td>\n      <td>797</td>\n      <td>Residential</td>\n      <td>Wed May 21 00:00:00 EDT 2008</td>\n      <td>81900</td>\n      <td>38.519470</td>\n      <td>-121.435768</td>\n    </tr>\n    <tr>\n      <th>...</th>\n      <td>...</td>\n      <td>...</td>\n      <td>...</td>\n      <td>...</td>\n      <td>...</td>\n      <td>...</td>\n      <td>...</td>\n      <td>...</td>\n      <td>...</td>\n      <td>...</td>\n      <td>...</td>\n      <td>...</td>\n    </tr>\n    <tr>\n      <th>437</th>\n      <td>3528 SAINT GEORGE DR</td>\n      <td>SACRAMENTO</td>\n      <td>95821</td>\n      <td>CA</td>\n      <td>3</td>\n      <td>1</td>\n      <td>1040</td>\n      <td>Residential</td>\n      <td>Thu May 15 00:00:00 EDT 2008</td>\n      <td>224000</td>\n      <td>38.629468</td>\n      <td>-121.376445</td>\n    </tr>\n    <tr>\n      <th>438</th>\n      <td>5 BISHOPGATE CT</td>\n      <td>SACRAMENTO</td>\n      <td>95823</td>\n      <td>CA</td>\n      <td>4</td>\n      <td>2</td>\n      <td>1329</td>\n      <td>Residential</td>\n      <td>Thu May 15 00:00:00 EDT 2008</td>\n      <td>229500</td>\n      <td>38.467936</td>\n      <td>-121.445477</td>\n    </tr>\n    <tr>\n      <th>439</th>\n      <td>5601 REXLEIGH DR</td>\n      <td>SACRAMENTO</td>\n      <td>95823</td>\n      <td>CA</td>\n      <td>4</td>\n      <td>2</td>\n      <td>1715</td>\n      <td>Residential</td>\n      <td>Thu May 15 00:00:00 EDT 2008</td>\n      <td>230000</td>\n      <td>38.445342</td>\n      <td>-121.441504</td>\n    </tr>\n    <tr>\n      <th>440</th>\n      <td>9169 GARLINGTON CT</td>\n      <td>SACRAMENTO</td>\n      <td>95829</td>\n      <td>CA</td>\n      <td>4</td>\n      <td>3</td>\n      <td>2280</td>\n      <td>Residential</td>\n      <td>Thu May 15 00:00:00 EDT 2008</td>\n      <td>232425</td>\n      <td>38.457679</td>\n      <td>-121.359620</td>\n    </tr>\n    <tr>\n      <th>441</th>\n      <td>6932 RUSKUT WAY</td>\n      <td>SACRAMENTO</td>\n      <td>95823</td>\n      <td>CA</td>\n      <td>3</td>\n      <td>2</td>\n      <td>1477</td>\n      <td>Residential</td>\n      <td>Thu May 15 00:00:00 EDT 2008</td>\n      <td>234000</td>\n      <td>38.499893</td>\n      <td>-121.458890</td>\n    </tr>\n  </tbody>\n</table>\n<p>442 rows × 12 columns</p>\n</div>"
     },
     "metadata": {},
     "execution_count": 14
    }
   ],
   "source": [
    "ps.sqldf(\"\"\"\n",
    "\n",
    "    SELECT * FROM trans_dataset \n",
    "    WHERE city LIKE '%sac%'\n",
    "\n",
    "\"\"\")"
   ]
  },
  {
   "cell_type": "code",
   "execution_count": 15,
   "metadata": {},
   "outputs": [
    {
     "output_type": "execute_result",
     "data": {
      "text/plain": [
       "               street            city    zip state  beds  baths  sq__ft  \\\n",
       "0        3526 HIGH ST      SACRAMENTO  95838    CA     2      1     836   \n",
       "1      2796 BRANCH ST      SACRAMENTO  95815    CA     2      1     796   \n",
       "2        7325 10TH ST       RIO LINDA  95673    CA     3      2    1146   \n",
       "3         6715 6TH ST       RIO LINDA  95673    CA     2      1     844   \n",
       "4  6118 STONEHAND AVE  CITRUS HEIGHTS  95621    CA     3      2    1118   \n",
       "\n",
       "          type                     sale_date   price   latitude   longitude  \n",
       "0  Residential  Wed May 21 00:00:00 EDT 2008   59222  38.631913 -121.434879  \n",
       "1  Residential  Wed May 21 00:00:00 EDT 2008   68880  38.618305 -121.443839  \n",
       "2  Residential  Wed May 21 00:00:00 EDT 2008   98937  38.700909 -121.442979  \n",
       "3  Residential  Wed May 21 00:00:00 EDT 2008  113263  38.689591 -121.452239  \n",
       "4  Residential  Wed May 21 00:00:00 EDT 2008  122000  38.707851 -121.320707  "
      ],
      "text/html": "<div>\n<style scoped>\n    .dataframe tbody tr th:only-of-type {\n        vertical-align: middle;\n    }\n\n    .dataframe tbody tr th {\n        vertical-align: top;\n    }\n\n    .dataframe thead th {\n        text-align: right;\n    }\n</style>\n<table border=\"1\" class=\"dataframe\">\n  <thead>\n    <tr style=\"text-align: right;\">\n      <th></th>\n      <th>street</th>\n      <th>city</th>\n      <th>zip</th>\n      <th>state</th>\n      <th>beds</th>\n      <th>baths</th>\n      <th>sq__ft</th>\n      <th>type</th>\n      <th>sale_date</th>\n      <th>price</th>\n      <th>latitude</th>\n      <th>longitude</th>\n    </tr>\n  </thead>\n  <tbody>\n    <tr>\n      <th>0</th>\n      <td>3526 HIGH ST</td>\n      <td>SACRAMENTO</td>\n      <td>95838</td>\n      <td>CA</td>\n      <td>2</td>\n      <td>1</td>\n      <td>836</td>\n      <td>Residential</td>\n      <td>Wed May 21 00:00:00 EDT 2008</td>\n      <td>59222</td>\n      <td>38.631913</td>\n      <td>-121.434879</td>\n    </tr>\n    <tr>\n      <th>1</th>\n      <td>2796 BRANCH ST</td>\n      <td>SACRAMENTO</td>\n      <td>95815</td>\n      <td>CA</td>\n      <td>2</td>\n      <td>1</td>\n      <td>796</td>\n      <td>Residential</td>\n      <td>Wed May 21 00:00:00 EDT 2008</td>\n      <td>68880</td>\n      <td>38.618305</td>\n      <td>-121.443839</td>\n    </tr>\n    <tr>\n      <th>2</th>\n      <td>7325 10TH ST</td>\n      <td>RIO LINDA</td>\n      <td>95673</td>\n      <td>CA</td>\n      <td>3</td>\n      <td>2</td>\n      <td>1146</td>\n      <td>Residential</td>\n      <td>Wed May 21 00:00:00 EDT 2008</td>\n      <td>98937</td>\n      <td>38.700909</td>\n      <td>-121.442979</td>\n    </tr>\n    <tr>\n      <th>3</th>\n      <td>6715 6TH ST</td>\n      <td>RIO LINDA</td>\n      <td>95673</td>\n      <td>CA</td>\n      <td>2</td>\n      <td>1</td>\n      <td>844</td>\n      <td>Residential</td>\n      <td>Wed May 21 00:00:00 EDT 2008</td>\n      <td>113263</td>\n      <td>38.689591</td>\n      <td>-121.452239</td>\n    </tr>\n    <tr>\n      <th>4</th>\n      <td>6118 STONEHAND AVE</td>\n      <td>CITRUS HEIGHTS</td>\n      <td>95621</td>\n      <td>CA</td>\n      <td>3</td>\n      <td>2</td>\n      <td>1118</td>\n      <td>Residential</td>\n      <td>Wed May 21 00:00:00 EDT 2008</td>\n      <td>122000</td>\n      <td>38.707851</td>\n      <td>-121.320707</td>\n    </tr>\n  </tbody>\n</table>\n</div>"
     },
     "metadata": {},
     "execution_count": 15
    }
   ],
   "source": [
    "ps.sqldf(\"\"\"\n",
    "\n",
    "    SELECT * FROM trans_dataset as df\n",
    "    WHERE street LIKE '%ST%'\n",
    "    LIMIT 5\n",
    "\n",
    "\"\"\")"
   ]
  },
  {
   "source": [
    "**JOIN**"
   ],
   "cell_type": "markdown",
   "metadata": {}
  },
  {
   "cell_type": "code",
   "execution_count": 16,
   "metadata": {},
   "outputs": [
    {
     "output_type": "execute_result",
     "data": {
      "text/plain": [
       "                     street             city   price  Price\n",
       "0              3526 HIGH ST       SACRAMENTO   59222   1200\n",
       "1              3526 HIGH ST       SACRAMENTO   59222   1200\n",
       "2              3526 HIGH ST       SACRAMENTO   59222   3600\n",
       "3              3526 HIGH ST       SACRAMENTO   59222   1200\n",
       "4              3526 HIGH ST       SACRAMENTO   59222   1200\n",
       "...                     ...              ...     ...    ...\n",
       "983025  3882 YELLOWSTONE LN  EL DORADO HILLS  235738   3600\n",
       "983026  3882 YELLOWSTONE LN  EL DORADO HILLS  235738   1200\n",
       "983027  3882 YELLOWSTONE LN  EL DORADO HILLS  235738   3600\n",
       "983028  3882 YELLOWSTONE LN  EL DORADO HILLS  235738   3600\n",
       "983029  3882 YELLOWSTONE LN  EL DORADO HILLS  235738   1200\n",
       "\n",
       "[983030 rows x 4 columns]"
      ],
      "text/html": "<div>\n<style scoped>\n    .dataframe tbody tr th:only-of-type {\n        vertical-align: middle;\n    }\n\n    .dataframe tbody tr th {\n        vertical-align: top;\n    }\n\n    .dataframe thead th {\n        text-align: right;\n    }\n</style>\n<table border=\"1\" class=\"dataframe\">\n  <thead>\n    <tr style=\"text-align: right;\">\n      <th></th>\n      <th>street</th>\n      <th>city</th>\n      <th>price</th>\n      <th>Price</th>\n    </tr>\n  </thead>\n  <tbody>\n    <tr>\n      <th>0</th>\n      <td>3526 HIGH ST</td>\n      <td>SACRAMENTO</td>\n      <td>59222</td>\n      <td>1200</td>\n    </tr>\n    <tr>\n      <th>1</th>\n      <td>3526 HIGH ST</td>\n      <td>SACRAMENTO</td>\n      <td>59222</td>\n      <td>1200</td>\n    </tr>\n    <tr>\n      <th>2</th>\n      <td>3526 HIGH ST</td>\n      <td>SACRAMENTO</td>\n      <td>59222</td>\n      <td>3600</td>\n    </tr>\n    <tr>\n      <th>3</th>\n      <td>3526 HIGH ST</td>\n      <td>SACRAMENTO</td>\n      <td>59222</td>\n      <td>1200</td>\n    </tr>\n    <tr>\n      <th>4</th>\n      <td>3526 HIGH ST</td>\n      <td>SACRAMENTO</td>\n      <td>59222</td>\n      <td>1200</td>\n    </tr>\n    <tr>\n      <th>...</th>\n      <td>...</td>\n      <td>...</td>\n      <td>...</td>\n      <td>...</td>\n    </tr>\n    <tr>\n      <th>983025</th>\n      <td>3882 YELLOWSTONE LN</td>\n      <td>EL DORADO HILLS</td>\n      <td>235738</td>\n      <td>3600</td>\n    </tr>\n    <tr>\n      <th>983026</th>\n      <td>3882 YELLOWSTONE LN</td>\n      <td>EL DORADO HILLS</td>\n      <td>235738</td>\n      <td>1200</td>\n    </tr>\n    <tr>\n      <th>983027</th>\n      <td>3882 YELLOWSTONE LN</td>\n      <td>EL DORADO HILLS</td>\n      <td>235738</td>\n      <td>3600</td>\n    </tr>\n    <tr>\n      <th>983028</th>\n      <td>3882 YELLOWSTONE LN</td>\n      <td>EL DORADO HILLS</td>\n      <td>235738</td>\n      <td>3600</td>\n    </tr>\n    <tr>\n      <th>983029</th>\n      <td>3882 YELLOWSTONE LN</td>\n      <td>EL DORADO HILLS</td>\n      <td>235738</td>\n      <td>1200</td>\n    </tr>\n  </tbody>\n</table>\n<p>983030 rows × 4 columns</p>\n</div>"
     },
     "metadata": {},
     "execution_count": 16
    }
   ],
   "source": [
    "ps.sqldf(\"\"\"\n",
    "\n",
    "    SELECT df.street, df.city, df.price, ds.price FROM trans_dataset as df\n",
    "    JOIN\n",
    "    sales_dataset as ds\n",
    "    WHERE df.price > 1000\n",
    "\n",
    "\n",
    "\"\"\")"
   ]
  },
  {
   "cell_type": "code",
   "execution_count": 17,
   "metadata": {},
   "outputs": [
    {
     "output_type": "execute_result",
     "data": {
      "text/plain": [
       "         city    zip                     sale_date  Price               Name\n",
       "0  SACRAMENTO  95838  Wed May 21 00:00:00 EDT 2008   1200             Betina\n",
       "1  SACRAMENTO  95838  Wed May 21 00:00:00 EDT 2008   1200  Federica e Andrea\n",
       "2  SACRAMENTO  95838  Wed May 21 00:00:00 EDT 2008   3600             Gerd W\n",
       "3  SACRAMENTO  95838  Wed May 21 00:00:00 EDT 2008   1200           LAURENCE\n",
       "4  SACRAMENTO  95838  Wed May 21 00:00:00 EDT 2008   1200              Fleur\n",
       "5  SACRAMENTO  95838  Wed May 21 00:00:00 EDT 2008   1200               adam\n",
       "6  SACRAMENTO  95838  Wed May 21 00:00:00 EDT 2008   1200              Stacy\n",
       "7  SACRAMENTO  95838  Wed May 21 00:00:00 EDT 2008   1200               Sean\n",
       "8  SACRAMENTO  95838  Wed May 21 00:00:00 EDT 2008   1200            Georgia\n",
       "9  SACRAMENTO  95838  Wed May 21 00:00:00 EDT 2008   1200            Richard"
      ],
      "text/html": "<div>\n<style scoped>\n    .dataframe tbody tr th:only-of-type {\n        vertical-align: middle;\n    }\n\n    .dataframe tbody tr th {\n        vertical-align: top;\n    }\n\n    .dataframe thead th {\n        text-align: right;\n    }\n</style>\n<table border=\"1\" class=\"dataframe\">\n  <thead>\n    <tr style=\"text-align: right;\">\n      <th></th>\n      <th>city</th>\n      <th>zip</th>\n      <th>sale_date</th>\n      <th>Price</th>\n      <th>Name</th>\n    </tr>\n  </thead>\n  <tbody>\n    <tr>\n      <th>0</th>\n      <td>SACRAMENTO</td>\n      <td>95838</td>\n      <td>Wed May 21 00:00:00 EDT 2008</td>\n      <td>1200</td>\n      <td>Betina</td>\n    </tr>\n    <tr>\n      <th>1</th>\n      <td>SACRAMENTO</td>\n      <td>95838</td>\n      <td>Wed May 21 00:00:00 EDT 2008</td>\n      <td>1200</td>\n      <td>Federica e Andrea</td>\n    </tr>\n    <tr>\n      <th>2</th>\n      <td>SACRAMENTO</td>\n      <td>95838</td>\n      <td>Wed May 21 00:00:00 EDT 2008</td>\n      <td>3600</td>\n      <td>Gerd W</td>\n    </tr>\n    <tr>\n      <th>3</th>\n      <td>SACRAMENTO</td>\n      <td>95838</td>\n      <td>Wed May 21 00:00:00 EDT 2008</td>\n      <td>1200</td>\n      <td>LAURENCE</td>\n    </tr>\n    <tr>\n      <th>4</th>\n      <td>SACRAMENTO</td>\n      <td>95838</td>\n      <td>Wed May 21 00:00:00 EDT 2008</td>\n      <td>1200</td>\n      <td>Fleur</td>\n    </tr>\n    <tr>\n      <th>5</th>\n      <td>SACRAMENTO</td>\n      <td>95838</td>\n      <td>Wed May 21 00:00:00 EDT 2008</td>\n      <td>1200</td>\n      <td>adam</td>\n    </tr>\n    <tr>\n      <th>6</th>\n      <td>SACRAMENTO</td>\n      <td>95838</td>\n      <td>Wed May 21 00:00:00 EDT 2008</td>\n      <td>1200</td>\n      <td>Stacy</td>\n    </tr>\n    <tr>\n      <th>7</th>\n      <td>SACRAMENTO</td>\n      <td>95838</td>\n      <td>Wed May 21 00:00:00 EDT 2008</td>\n      <td>1200</td>\n      <td>Sean</td>\n    </tr>\n    <tr>\n      <th>8</th>\n      <td>SACRAMENTO</td>\n      <td>95838</td>\n      <td>Wed May 21 00:00:00 EDT 2008</td>\n      <td>1200</td>\n      <td>Georgia</td>\n    </tr>\n    <tr>\n      <th>9</th>\n      <td>SACRAMENTO</td>\n      <td>95838</td>\n      <td>Wed May 21 00:00:00 EDT 2008</td>\n      <td>1200</td>\n      <td>Richard</td>\n    </tr>\n  </tbody>\n</table>\n</div>"
     },
     "metadata": {},
     "execution_count": 17
    }
   ],
   "source": [
    "ps.sqldf(\"\"\"\n",
    "\n",
    "    SELECT df.city, df.zip, df.sale_date, ds.price, ds.name FROM trans_dataset as df\n",
    "    LEFT JOIN\n",
    "    sales_dataset as ds\n",
    "    LIMIT 10\n",
    "\n",
    "\"\"\")"
   ]
  },
  {
   "cell_type": "code",
   "execution_count": 18,
   "metadata": {},
   "outputs": [
    {
     "output_type": "execute_result",
     "data": {
      "text/plain": [
       "                    street             city    zip state  beds  baths  sq__ft  \\\n",
       "0             3526 HIGH ST       SACRAMENTO  95838    CA     2      1     836   \n",
       "1             3526 HIGH ST       SACRAMENTO  95838    CA     2      1     836   \n",
       "2             3526 HIGH ST       SACRAMENTO  95838    CA     2      1     836   \n",
       "3             3526 HIGH ST       SACRAMENTO  95838    CA     2      1     836   \n",
       "4             3526 HIGH ST       SACRAMENTO  95838    CA     2      1     836   \n",
       "...                    ...              ...    ...   ...   ...    ...     ...   \n",
       "65005  3882 YELLOWSTONE LN  EL DORADO HILLS  95762    CA     3      2    1362   \n",
       "65006  3882 YELLOWSTONE LN  EL DORADO HILLS  95762    CA     3      2    1362   \n",
       "65007  3882 YELLOWSTONE LN  EL DORADO HILLS  95762    CA     3      2    1362   \n",
       "65008  3882 YELLOWSTONE LN  EL DORADO HILLS  95762    CA     3      2    1362   \n",
       "65009  3882 YELLOWSTONE LN  EL DORADO HILLS  95762    CA     3      2    1362   \n",
       "\n",
       "              type                     sale_date   price  ...  Payment_Type  \\\n",
       "0      Residential  Wed May 21 00:00:00 EDT 2008   59222  ...    Mastercard   \n",
       "1      Residential  Wed May 21 00:00:00 EDT 2008   59222  ...          Amex   \n",
       "2      Residential  Wed May 21 00:00:00 EDT 2008   59222  ...        Diners   \n",
       "3      Residential  Wed May 21 00:00:00 EDT 2008   59222  ...          Visa   \n",
       "4      Residential  Wed May 21 00:00:00 EDT 2008   59222  ...          Visa   \n",
       "...            ...                           ...     ...  ...           ...   \n",
       "65005  Residential  Thu May 15 00:00:00 EDT 2008  235738  ...          Visa   \n",
       "65006  Residential  Thu May 15 00:00:00 EDT 2008  235738  ...          Visa   \n",
       "65007  Residential  Thu May 15 00:00:00 EDT 2008  235738  ...          Visa   \n",
       "65008  Residential  Thu May 15 00:00:00 EDT 2008  235738  ...    Mastercard   \n",
       "65009  Residential  Thu May 15 00:00:00 EDT 2008  235738  ...    Mastercard   \n",
       "\n",
       "                Name          City State        Country  Account_Created  \\\n",
       "0            Barbara  La Crescenta    CA  United States   12/31/08 17:51   \n",
       "1             Andrea     San Mateo    CA  United States   12/31/08 17:09   \n",
       "2           caterina       Burbank    CA  United States    12/30/08 8:39   \n",
       "3              Cindy      Glendora    CA  United States    3/13/04 14:09   \n",
       "4      Doug and Tina  Pls Vrds Est    CA  United States   12/24/07 22:59   \n",
       "...              ...           ...   ...            ...              ...   \n",
       "65005           John      San Jose    CA  United States    1/14/04 21:59   \n",
       "65006          KERRY     Sunnyvale    CA  United States  1/29/2009 14:04   \n",
       "65007        Tabatha      Altadena    CA  United States   12/28/08 14:42   \n",
       "65008         Abikay     Fullerton    CA  United States  1/26/2009 13:34   \n",
       "65009        Natasha      Pasadena    CA  United States  1/30/2009 20:02   \n",
       "\n",
       "            Last_Login  Latitude  Longitude   US Zip  \n",
       "0       2/2/2009 10:27  34.22417 -118.23917  91214.0  \n",
       "1       2/6/2009 21:59  37.56306 -122.32444  94401.0  \n",
       "2      2/26/2009 20:22  34.18083 -118.30806  91502.0  \n",
       "3      2/14/2009 11:23  34.13611 -117.86444  91741.0  \n",
       "4      2/27/2009 21:40  33.80056 -118.38917  90274.0  \n",
       "...                ...       ...        ...      ...  \n",
       "65005  2/10/2009 23:58  37.33944 -121.89389  95113.0  \n",
       "65006  1/29/2009 14:04  37.36889 -122.03528  94086.0  \n",
       "65007   2/3/2009 18:09  34.18972 -118.13028  91001.0  \n",
       "65008   2/9/2009 12:53  33.87028 -117.92444  92832.0  \n",
       "65009   2/3/2009 23:39  34.14778 -118.14361  91101.0  \n",
       "\n",
       "[65010 rows x 25 columns]"
      ],
      "text/html": "<div>\n<style scoped>\n    .dataframe tbody tr th:only-of-type {\n        vertical-align: middle;\n    }\n\n    .dataframe tbody tr th {\n        vertical-align: top;\n    }\n\n    .dataframe thead th {\n        text-align: right;\n    }\n</style>\n<table border=\"1\" class=\"dataframe\">\n  <thead>\n    <tr style=\"text-align: right;\">\n      <th></th>\n      <th>street</th>\n      <th>city</th>\n      <th>zip</th>\n      <th>state</th>\n      <th>beds</th>\n      <th>baths</th>\n      <th>sq__ft</th>\n      <th>type</th>\n      <th>sale_date</th>\n      <th>price</th>\n      <th>...</th>\n      <th>Payment_Type</th>\n      <th>Name</th>\n      <th>City</th>\n      <th>State</th>\n      <th>Country</th>\n      <th>Account_Created</th>\n      <th>Last_Login</th>\n      <th>Latitude</th>\n      <th>Longitude</th>\n      <th>US Zip</th>\n    </tr>\n  </thead>\n  <tbody>\n    <tr>\n      <th>0</th>\n      <td>3526 HIGH ST</td>\n      <td>SACRAMENTO</td>\n      <td>95838</td>\n      <td>CA</td>\n      <td>2</td>\n      <td>1</td>\n      <td>836</td>\n      <td>Residential</td>\n      <td>Wed May 21 00:00:00 EDT 2008</td>\n      <td>59222</td>\n      <td>...</td>\n      <td>Mastercard</td>\n      <td>Barbara</td>\n      <td>La Crescenta</td>\n      <td>CA</td>\n      <td>United States</td>\n      <td>12/31/08 17:51</td>\n      <td>2/2/2009 10:27</td>\n      <td>34.22417</td>\n      <td>-118.23917</td>\n      <td>91214.0</td>\n    </tr>\n    <tr>\n      <th>1</th>\n      <td>3526 HIGH ST</td>\n      <td>SACRAMENTO</td>\n      <td>95838</td>\n      <td>CA</td>\n      <td>2</td>\n      <td>1</td>\n      <td>836</td>\n      <td>Residential</td>\n      <td>Wed May 21 00:00:00 EDT 2008</td>\n      <td>59222</td>\n      <td>...</td>\n      <td>Amex</td>\n      <td>Andrea</td>\n      <td>San Mateo</td>\n      <td>CA</td>\n      <td>United States</td>\n      <td>12/31/08 17:09</td>\n      <td>2/6/2009 21:59</td>\n      <td>37.56306</td>\n      <td>-122.32444</td>\n      <td>94401.0</td>\n    </tr>\n    <tr>\n      <th>2</th>\n      <td>3526 HIGH ST</td>\n      <td>SACRAMENTO</td>\n      <td>95838</td>\n      <td>CA</td>\n      <td>2</td>\n      <td>1</td>\n      <td>836</td>\n      <td>Residential</td>\n      <td>Wed May 21 00:00:00 EDT 2008</td>\n      <td>59222</td>\n      <td>...</td>\n      <td>Diners</td>\n      <td>caterina</td>\n      <td>Burbank</td>\n      <td>CA</td>\n      <td>United States</td>\n      <td>12/30/08 8:39</td>\n      <td>2/26/2009 20:22</td>\n      <td>34.18083</td>\n      <td>-118.30806</td>\n      <td>91502.0</td>\n    </tr>\n    <tr>\n      <th>3</th>\n      <td>3526 HIGH ST</td>\n      <td>SACRAMENTO</td>\n      <td>95838</td>\n      <td>CA</td>\n      <td>2</td>\n      <td>1</td>\n      <td>836</td>\n      <td>Residential</td>\n      <td>Wed May 21 00:00:00 EDT 2008</td>\n      <td>59222</td>\n      <td>...</td>\n      <td>Visa</td>\n      <td>Cindy</td>\n      <td>Glendora</td>\n      <td>CA</td>\n      <td>United States</td>\n      <td>3/13/04 14:09</td>\n      <td>2/14/2009 11:23</td>\n      <td>34.13611</td>\n      <td>-117.86444</td>\n      <td>91741.0</td>\n    </tr>\n    <tr>\n      <th>4</th>\n      <td>3526 HIGH ST</td>\n      <td>SACRAMENTO</td>\n      <td>95838</td>\n      <td>CA</td>\n      <td>2</td>\n      <td>1</td>\n      <td>836</td>\n      <td>Residential</td>\n      <td>Wed May 21 00:00:00 EDT 2008</td>\n      <td>59222</td>\n      <td>...</td>\n      <td>Visa</td>\n      <td>Doug and Tina</td>\n      <td>Pls Vrds Est</td>\n      <td>CA</td>\n      <td>United States</td>\n      <td>12/24/07 22:59</td>\n      <td>2/27/2009 21:40</td>\n      <td>33.80056</td>\n      <td>-118.38917</td>\n      <td>90274.0</td>\n    </tr>\n    <tr>\n      <th>...</th>\n      <td>...</td>\n      <td>...</td>\n      <td>...</td>\n      <td>...</td>\n      <td>...</td>\n      <td>...</td>\n      <td>...</td>\n      <td>...</td>\n      <td>...</td>\n      <td>...</td>\n      <td>...</td>\n      <td>...</td>\n      <td>...</td>\n      <td>...</td>\n      <td>...</td>\n      <td>...</td>\n      <td>...</td>\n      <td>...</td>\n      <td>...</td>\n      <td>...</td>\n      <td>...</td>\n    </tr>\n    <tr>\n      <th>65005</th>\n      <td>3882 YELLOWSTONE LN</td>\n      <td>EL DORADO HILLS</td>\n      <td>95762</td>\n      <td>CA</td>\n      <td>3</td>\n      <td>2</td>\n      <td>1362</td>\n      <td>Residential</td>\n      <td>Thu May 15 00:00:00 EDT 2008</td>\n      <td>235738</td>\n      <td>...</td>\n      <td>Visa</td>\n      <td>John</td>\n      <td>San Jose</td>\n      <td>CA</td>\n      <td>United States</td>\n      <td>1/14/04 21:59</td>\n      <td>2/10/2009 23:58</td>\n      <td>37.33944</td>\n      <td>-121.89389</td>\n      <td>95113.0</td>\n    </tr>\n    <tr>\n      <th>65006</th>\n      <td>3882 YELLOWSTONE LN</td>\n      <td>EL DORADO HILLS</td>\n      <td>95762</td>\n      <td>CA</td>\n      <td>3</td>\n      <td>2</td>\n      <td>1362</td>\n      <td>Residential</td>\n      <td>Thu May 15 00:00:00 EDT 2008</td>\n      <td>235738</td>\n      <td>...</td>\n      <td>Visa</td>\n      <td>KERRY</td>\n      <td>Sunnyvale</td>\n      <td>CA</td>\n      <td>United States</td>\n      <td>1/29/2009 14:04</td>\n      <td>1/29/2009 14:04</td>\n      <td>37.36889</td>\n      <td>-122.03528</td>\n      <td>94086.0</td>\n    </tr>\n    <tr>\n      <th>65007</th>\n      <td>3882 YELLOWSTONE LN</td>\n      <td>EL DORADO HILLS</td>\n      <td>95762</td>\n      <td>CA</td>\n      <td>3</td>\n      <td>2</td>\n      <td>1362</td>\n      <td>Residential</td>\n      <td>Thu May 15 00:00:00 EDT 2008</td>\n      <td>235738</td>\n      <td>...</td>\n      <td>Visa</td>\n      <td>Tabatha</td>\n      <td>Altadena</td>\n      <td>CA</td>\n      <td>United States</td>\n      <td>12/28/08 14:42</td>\n      <td>2/3/2009 18:09</td>\n      <td>34.18972</td>\n      <td>-118.13028</td>\n      <td>91001.0</td>\n    </tr>\n    <tr>\n      <th>65008</th>\n      <td>3882 YELLOWSTONE LN</td>\n      <td>EL DORADO HILLS</td>\n      <td>95762</td>\n      <td>CA</td>\n      <td>3</td>\n      <td>2</td>\n      <td>1362</td>\n      <td>Residential</td>\n      <td>Thu May 15 00:00:00 EDT 2008</td>\n      <td>235738</td>\n      <td>...</td>\n      <td>Mastercard</td>\n      <td>Abikay</td>\n      <td>Fullerton</td>\n      <td>CA</td>\n      <td>United States</td>\n      <td>1/26/2009 13:34</td>\n      <td>2/9/2009 12:53</td>\n      <td>33.87028</td>\n      <td>-117.92444</td>\n      <td>92832.0</td>\n    </tr>\n    <tr>\n      <th>65009</th>\n      <td>3882 YELLOWSTONE LN</td>\n      <td>EL DORADO HILLS</td>\n      <td>95762</td>\n      <td>CA</td>\n      <td>3</td>\n      <td>2</td>\n      <td>1362</td>\n      <td>Residential</td>\n      <td>Thu May 15 00:00:00 EDT 2008</td>\n      <td>235738</td>\n      <td>...</td>\n      <td>Mastercard</td>\n      <td>Natasha</td>\n      <td>Pasadena</td>\n      <td>CA</td>\n      <td>United States</td>\n      <td>1/30/2009 20:02</td>\n      <td>2/3/2009 23:39</td>\n      <td>34.14778</td>\n      <td>-118.14361</td>\n      <td>91101.0</td>\n    </tr>\n  </tbody>\n</table>\n<p>65010 rows × 25 columns</p>\n</div>"
     },
     "metadata": {},
     "execution_count": 18
    }
   ],
   "source": [
    "ps.sqldf(\"\"\"\n",
    "\n",
    "    SELECT * FROM trans_dataset as df\n",
    "    JOIN\n",
    "    sales_dataset as ds\n",
    "    where ds.state = df.state\n",
    "\n",
    "\"\"\")"
   ]
  },
  {
   "cell_type": "code",
   "execution_count": 19,
   "metadata": {},
   "outputs": [
    {
     "output_type": "execute_result",
     "data": {
      "text/plain": [
       "         city      avg_price    avg_sqft min_account_created  max_zip\n",
       "0  SACRAMENTO  234144.263959  1292602614         1/1/05 6:03    95864"
      ],
      "text/html": "<div>\n<style scoped>\n    .dataframe tbody tr th:only-of-type {\n        vertical-align: middle;\n    }\n\n    .dataframe tbody tr th {\n        vertical-align: top;\n    }\n\n    .dataframe thead th {\n        text-align: right;\n    }\n</style>\n<table border=\"1\" class=\"dataframe\">\n  <thead>\n    <tr style=\"text-align: right;\">\n      <th></th>\n      <th>city</th>\n      <th>avg_price</th>\n      <th>avg_sqft</th>\n      <th>min_account_created</th>\n      <th>max_zip</th>\n    </tr>\n  </thead>\n  <tbody>\n    <tr>\n      <th>0</th>\n      <td>SACRAMENTO</td>\n      <td>234144.263959</td>\n      <td>1292602614</td>\n      <td>1/1/05 6:03</td>\n      <td>95864</td>\n    </tr>\n  </tbody>\n</table>\n</div>"
     },
     "metadata": {},
     "execution_count": 19
    }
   ],
   "source": [
    "ps.sqldf(\"\"\"\n",
    "\n",
    "    SELECT df.city,\n",
    "    AVG(df.price) as avg_price, \n",
    "    SUM(df.sq__ft) as avg_sqft,\n",
    "    MIN(ds.account_created) as min_account_created,\n",
    "    MAX(df.zip) as max_zip\n",
    "\n",
    "    FROM trans_dataset as df\n",
    "    JOIN\n",
    "    sales_dataset as ds\n",
    "\n",
    "\"\"\")"
   ]
  },
  {
   "source": [
    "**AND / OR**"
   ],
   "cell_type": "markdown",
   "metadata": {}
  },
  {
   "cell_type": "code",
   "execution_count": 20,
   "metadata": {},
   "outputs": [
    {
     "output_type": "execute_result",
     "data": {
      "text/plain": [
       "                     street   price                Name  Account_Created\n",
       "0               51 OMAHA CT   68212                   A     11/8/08 4:07\n",
       "1               51 OMAHA CT   68212                 AMY   12/30/08 20:41\n",
       "2               51 OMAHA CT   68212               Aaron   11/16/08 15:49\n",
       "3               51 OMAHA CT   68212              Abikay  1/26/2009 13:34\n",
       "4               51 OMAHA CT   68212              Abikay   10/27/08 14:16\n",
       "...                     ...     ...                 ...              ...\n",
       "778761  3882 YELLOWSTONE LN  235738               stacy     3/5/06 15:01\n",
       "778762  3882 YELLOWSTONE LN  235738               steve  1/12/2009 07:47\n",
       "778763  3882 YELLOWSTONE LN  235738               sunny    9/14/05 22:53\n",
       "778764  3882 YELLOWSTONE LN  235738             suzanne   1/9/2009 19:15\n",
       "778765  3882 YELLOWSTONE LN  235738  valerie et nicolas   1/8/2009 05:31\n",
       "\n",
       "[778766 rows x 4 columns]"
      ],
      "text/html": "<div>\n<style scoped>\n    .dataframe tbody tr th:only-of-type {\n        vertical-align: middle;\n    }\n\n    .dataframe tbody tr th {\n        vertical-align: top;\n    }\n\n    .dataframe thead th {\n        text-align: right;\n    }\n</style>\n<table border=\"1\" class=\"dataframe\">\n  <thead>\n    <tr style=\"text-align: right;\">\n      <th></th>\n      <th>street</th>\n      <th>price</th>\n      <th>Name</th>\n      <th>Account_Created</th>\n    </tr>\n  </thead>\n  <tbody>\n    <tr>\n      <th>0</th>\n      <td>51 OMAHA CT</td>\n      <td>68212</td>\n      <td>A</td>\n      <td>11/8/08 4:07</td>\n    </tr>\n    <tr>\n      <th>1</th>\n      <td>51 OMAHA CT</td>\n      <td>68212</td>\n      <td>AMY</td>\n      <td>12/30/08 20:41</td>\n    </tr>\n    <tr>\n      <th>2</th>\n      <td>51 OMAHA CT</td>\n      <td>68212</td>\n      <td>Aaron</td>\n      <td>11/16/08 15:49</td>\n    </tr>\n    <tr>\n      <th>3</th>\n      <td>51 OMAHA CT</td>\n      <td>68212</td>\n      <td>Abikay</td>\n      <td>1/26/2009 13:34</td>\n    </tr>\n    <tr>\n      <th>4</th>\n      <td>51 OMAHA CT</td>\n      <td>68212</td>\n      <td>Abikay</td>\n      <td>10/27/08 14:16</td>\n    </tr>\n    <tr>\n      <th>...</th>\n      <td>...</td>\n      <td>...</td>\n      <td>...</td>\n      <td>...</td>\n    </tr>\n    <tr>\n      <th>778761</th>\n      <td>3882 YELLOWSTONE LN</td>\n      <td>235738</td>\n      <td>stacy</td>\n      <td>3/5/06 15:01</td>\n    </tr>\n    <tr>\n      <th>778762</th>\n      <td>3882 YELLOWSTONE LN</td>\n      <td>235738</td>\n      <td>steve</td>\n      <td>1/12/2009 07:47</td>\n    </tr>\n    <tr>\n      <th>778763</th>\n      <td>3882 YELLOWSTONE LN</td>\n      <td>235738</td>\n      <td>sunny</td>\n      <td>9/14/05 22:53</td>\n    </tr>\n    <tr>\n      <th>778764</th>\n      <td>3882 YELLOWSTONE LN</td>\n      <td>235738</td>\n      <td>suzanne</td>\n      <td>1/9/2009 19:15</td>\n    </tr>\n    <tr>\n      <th>778765</th>\n      <td>3882 YELLOWSTONE LN</td>\n      <td>235738</td>\n      <td>valerie et nicolas</td>\n      <td>1/8/2009 05:31</td>\n    </tr>\n  </tbody>\n</table>\n<p>778766 rows × 4 columns</p>\n</div>"
     },
     "metadata": {},
     "execution_count": 20
    }
   ],
   "source": [
    "ps.sqldf(\"\"\"\n",
    "\n",
    "    SELECT df.street, df.price, ds.name, ds.account_created FROM trans_dataset as df\n",
    "    JOIN\n",
    "    sales_dataset as ds\n",
    "    WHERE (df.price >60000 AND ds.price = 1200)\n",
    "\n",
    "\"\"\")"
   ]
  },
  {
   "cell_type": "code",
   "execution_count": 21,
   "metadata": {},
   "outputs": [
    {
     "output_type": "execute_result",
     "data": {
      "text/plain": [
       "                     street             city             Name  \\\n",
       "0              3526 HIGH ST       SACRAMENTO           Gerd W   \n",
       "1              3526 HIGH ST       SACRAMENTO             Ritz   \n",
       "2              3526 HIGH ST       SACRAMENTO           Sylvia   \n",
       "3              3526 HIGH ST       SACRAMENTO          Anabela   \n",
       "4              3526 HIGH ST       SACRAMENTO       Christiane   \n",
       "...                     ...              ...              ...   \n",
       "133955  3882 YELLOWSTONE LN  EL DORADO HILLS  Kees en Valesca   \n",
       "133956  3882 YELLOWSTONE LN  EL DORADO HILLS            Piret   \n",
       "133957  3882 YELLOWSTONE LN  EL DORADO HILLS            clara   \n",
       "133958  3882 YELLOWSTONE LN  EL DORADO HILLS             Anke   \n",
       "133959  3882 YELLOWSTONE LN  EL DORADO HILLS           TRICIA   \n",
       "\n",
       "                    State  \n",
       "0                      AL  \n",
       "1                      VT  \n",
       "2                      VT  \n",
       "3                      IL  \n",
       "4                      FL  \n",
       "...                   ...  \n",
       "133955           Tasmania  \n",
       "133956  Western Australia  \n",
       "133957  Western Australia  \n",
       "133958    New South Wales  \n",
       "133959    New South Wales  \n",
       "\n",
       "[133960 rows x 4 columns]"
      ],
      "text/html": "<div>\n<style scoped>\n    .dataframe tbody tr th:only-of-type {\n        vertical-align: middle;\n    }\n\n    .dataframe tbody tr th {\n        vertical-align: top;\n    }\n\n    .dataframe thead th {\n        text-align: right;\n    }\n</style>\n<table border=\"1\" class=\"dataframe\">\n  <thead>\n    <tr style=\"text-align: right;\">\n      <th></th>\n      <th>street</th>\n      <th>city</th>\n      <th>Name</th>\n      <th>State</th>\n    </tr>\n  </thead>\n  <tbody>\n    <tr>\n      <th>0</th>\n      <td>3526 HIGH ST</td>\n      <td>SACRAMENTO</td>\n      <td>Gerd W</td>\n      <td>AL</td>\n    </tr>\n    <tr>\n      <th>1</th>\n      <td>3526 HIGH ST</td>\n      <td>SACRAMENTO</td>\n      <td>Ritz</td>\n      <td>VT</td>\n    </tr>\n    <tr>\n      <th>2</th>\n      <td>3526 HIGH ST</td>\n      <td>SACRAMENTO</td>\n      <td>Sylvia</td>\n      <td>VT</td>\n    </tr>\n    <tr>\n      <th>3</th>\n      <td>3526 HIGH ST</td>\n      <td>SACRAMENTO</td>\n      <td>Anabela</td>\n      <td>IL</td>\n    </tr>\n    <tr>\n      <th>4</th>\n      <td>3526 HIGH ST</td>\n      <td>SACRAMENTO</td>\n      <td>Christiane</td>\n      <td>FL</td>\n    </tr>\n    <tr>\n      <th>...</th>\n      <td>...</td>\n      <td>...</td>\n      <td>...</td>\n      <td>...</td>\n    </tr>\n    <tr>\n      <th>133955</th>\n      <td>3882 YELLOWSTONE LN</td>\n      <td>EL DORADO HILLS</td>\n      <td>Kees en Valesca</td>\n      <td>Tasmania</td>\n    </tr>\n    <tr>\n      <th>133956</th>\n      <td>3882 YELLOWSTONE LN</td>\n      <td>EL DORADO HILLS</td>\n      <td>Piret</td>\n      <td>Western Australia</td>\n    </tr>\n    <tr>\n      <th>133957</th>\n      <td>3882 YELLOWSTONE LN</td>\n      <td>EL DORADO HILLS</td>\n      <td>clara</td>\n      <td>Western Australia</td>\n    </tr>\n    <tr>\n      <th>133958</th>\n      <td>3882 YELLOWSTONE LN</td>\n      <td>EL DORADO HILLS</td>\n      <td>Anke</td>\n      <td>New South Wales</td>\n    </tr>\n    <tr>\n      <th>133959</th>\n      <td>3882 YELLOWSTONE LN</td>\n      <td>EL DORADO HILLS</td>\n      <td>TRICIA</td>\n      <td>New South Wales</td>\n    </tr>\n  </tbody>\n</table>\n<p>133960 rows × 4 columns</p>\n</div>"
     },
     "metadata": {},
     "execution_count": 21
    }
   ],
   "source": [
    "ps.sqldf(\"\"\"\n",
    "\n",
    "    SELECT df.street, df.city, ds.name, ds.state FROM trans_dataset as df\n",
    "    JOIN \n",
    "    sales_dataset as ds\n",
    "    WHERE (df.city = 'CA' AND df.price >60000)\n",
    "    OR\n",
    "    (ds.city <> 'CA' AND ds.price =3600)\n",
    "\n",
    "\"\"\")"
   ]
  },
  {
   "source": [
    "**NESTED QUERIES**"
   ],
   "cell_type": "markdown",
   "metadata": {}
  },
  {
   "cell_type": "code",
   "execution_count": 22,
   "metadata": {},
   "outputs": [
    {
     "output_type": "execute_result",
     "data": {
      "text/plain": [
       "                    Name  Price\n",
       "0                 asuman   1200\n",
       "1                 Family   1200\n",
       "2               Delphine   1200\n",
       "3                  Valda   3600\n",
       "4                  CLARE   1200\n",
       "..                   ...    ...\n",
       "61                 Angie   1200\n",
       "62              caterina   1200\n",
       "63  Frank and Christelle   7500\n",
       "64         Doug and Tina   1200\n",
       "65                 Kevin   1200\n",
       "\n",
       "[66 rows x 2 columns]"
      ],
      "text/html": "<div>\n<style scoped>\n    .dataframe tbody tr th:only-of-type {\n        vertical-align: middle;\n    }\n\n    .dataframe tbody tr th {\n        vertical-align: top;\n    }\n\n    .dataframe thead th {\n        text-align: right;\n    }\n</style>\n<table border=\"1\" class=\"dataframe\">\n  <thead>\n    <tr style=\"text-align: right;\">\n      <th></th>\n      <th>Name</th>\n      <th>Price</th>\n    </tr>\n  </thead>\n  <tbody>\n    <tr>\n      <th>0</th>\n      <td>asuman</td>\n      <td>1200</td>\n    </tr>\n    <tr>\n      <th>1</th>\n      <td>Family</td>\n      <td>1200</td>\n    </tr>\n    <tr>\n      <th>2</th>\n      <td>Delphine</td>\n      <td>1200</td>\n    </tr>\n    <tr>\n      <th>3</th>\n      <td>Valda</td>\n      <td>3600</td>\n    </tr>\n    <tr>\n      <th>4</th>\n      <td>CLARE</td>\n      <td>1200</td>\n    </tr>\n    <tr>\n      <th>...</th>\n      <td>...</td>\n      <td>...</td>\n    </tr>\n    <tr>\n      <th>61</th>\n      <td>Angie</td>\n      <td>1200</td>\n    </tr>\n    <tr>\n      <th>62</th>\n      <td>caterina</td>\n      <td>1200</td>\n    </tr>\n    <tr>\n      <th>63</th>\n      <td>Frank and Christelle</td>\n      <td>7500</td>\n    </tr>\n    <tr>\n      <th>64</th>\n      <td>Doug and Tina</td>\n      <td>1200</td>\n    </tr>\n    <tr>\n      <th>65</th>\n      <td>Kevin</td>\n      <td>1200</td>\n    </tr>\n  </tbody>\n</table>\n<p>66 rows × 2 columns</p>\n</div>"
     },
     "metadata": {},
     "execution_count": 22
    }
   ],
   "source": [
    "ps.sqldf(\"\"\"\n",
    "\n",
    "    SELECT ds.name, ds.price FROM sales_dataset as ds\n",
    "    WHERE ds.state IN(\n",
    "        SELECT df.state FROM trans_dataset as df\n",
    "        WHERE price > 60000\n",
    "        )\n",
    "\n",
    "\"\"\")"
   ]
  },
  {
   "source": [
    "**Thank your for viewing this project till the end.**\n",
    "\n",
    "**Follow me on LinkedIn** >   https://www.linkedin.com/shubhamrastogi98\n",
    "\n",
    "**Follow me on Github**   >   https://www.github.com/wokeshubham"
   ],
   "cell_type": "markdown",
   "metadata": {}
  }
 ]
}